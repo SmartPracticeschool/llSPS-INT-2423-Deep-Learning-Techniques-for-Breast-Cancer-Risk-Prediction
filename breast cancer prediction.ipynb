{
 "cells": [
  {
   "cell_type": "code",
   "execution_count": 1,
   "metadata": {},
   "outputs": [
    {
     "name": "stderr",
     "output_type": "stream",
     "text": [
      "Using TensorFlow backend.\n",
      "C:\\Users\\Nadhiya\\anaconda3\\lib\\site-packages\\tensorflow\\python\\framework\\dtypes.py:516: FutureWarning: Passing (type, 1) or '1type' as a synonym of type is deprecated; in a future version of numpy, it will be understood as (type, (1,)) / '(1,)type'.\n",
      "  _np_qint8 = np.dtype([(\"qint8\", np.int8, 1)])\n",
      "C:\\Users\\Nadhiya\\anaconda3\\lib\\site-packages\\tensorflow\\python\\framework\\dtypes.py:517: FutureWarning: Passing (type, 1) or '1type' as a synonym of type is deprecated; in a future version of numpy, it will be understood as (type, (1,)) / '(1,)type'.\n",
      "  _np_quint8 = np.dtype([(\"quint8\", np.uint8, 1)])\n",
      "C:\\Users\\Nadhiya\\anaconda3\\lib\\site-packages\\tensorflow\\python\\framework\\dtypes.py:518: FutureWarning: Passing (type, 1) or '1type' as a synonym of type is deprecated; in a future version of numpy, it will be understood as (type, (1,)) / '(1,)type'.\n",
      "  _np_qint16 = np.dtype([(\"qint16\", np.int16, 1)])\n",
      "C:\\Users\\Nadhiya\\anaconda3\\lib\\site-packages\\tensorflow\\python\\framework\\dtypes.py:519: FutureWarning: Passing (type, 1) or '1type' as a synonym of type is deprecated; in a future version of numpy, it will be understood as (type, (1,)) / '(1,)type'.\n",
      "  _np_quint16 = np.dtype([(\"quint16\", np.uint16, 1)])\n",
      "C:\\Users\\Nadhiya\\anaconda3\\lib\\site-packages\\tensorflow\\python\\framework\\dtypes.py:520: FutureWarning: Passing (type, 1) or '1type' as a synonym of type is deprecated; in a future version of numpy, it will be understood as (type, (1,)) / '(1,)type'.\n",
      "  _np_qint32 = np.dtype([(\"qint32\", np.int32, 1)])\n",
      "C:\\Users\\Nadhiya\\anaconda3\\lib\\site-packages\\tensorflow\\python\\framework\\dtypes.py:525: FutureWarning: Passing (type, 1) or '1type' as a synonym of type is deprecated; in a future version of numpy, it will be understood as (type, (1,)) / '(1,)type'.\n",
      "  np_resource = np.dtype([(\"resource\", np.ubyte, 1)])\n",
      "C:\\Users\\Nadhiya\\anaconda3\\lib\\site-packages\\tensorboard\\compat\\tensorflow_stub\\dtypes.py:541: FutureWarning: Passing (type, 1) or '1type' as a synonym of type is deprecated; in a future version of numpy, it will be understood as (type, (1,)) / '(1,)type'.\n",
      "  _np_qint8 = np.dtype([(\"qint8\", np.int8, 1)])\n",
      "C:\\Users\\Nadhiya\\anaconda3\\lib\\site-packages\\tensorboard\\compat\\tensorflow_stub\\dtypes.py:542: FutureWarning: Passing (type, 1) or '1type' as a synonym of type is deprecated; in a future version of numpy, it will be understood as (type, (1,)) / '(1,)type'.\n",
      "  _np_quint8 = np.dtype([(\"quint8\", np.uint8, 1)])\n",
      "C:\\Users\\Nadhiya\\anaconda3\\lib\\site-packages\\tensorboard\\compat\\tensorflow_stub\\dtypes.py:543: FutureWarning: Passing (type, 1) or '1type' as a synonym of type is deprecated; in a future version of numpy, it will be understood as (type, (1,)) / '(1,)type'.\n",
      "  _np_qint16 = np.dtype([(\"qint16\", np.int16, 1)])\n",
      "C:\\Users\\Nadhiya\\anaconda3\\lib\\site-packages\\tensorboard\\compat\\tensorflow_stub\\dtypes.py:544: FutureWarning: Passing (type, 1) or '1type' as a synonym of type is deprecated; in a future version of numpy, it will be understood as (type, (1,)) / '(1,)type'.\n",
      "  _np_quint16 = np.dtype([(\"quint16\", np.uint16, 1)])\n",
      "C:\\Users\\Nadhiya\\anaconda3\\lib\\site-packages\\tensorboard\\compat\\tensorflow_stub\\dtypes.py:545: FutureWarning: Passing (type, 1) or '1type' as a synonym of type is deprecated; in a future version of numpy, it will be understood as (type, (1,)) / '(1,)type'.\n",
      "  _np_qint32 = np.dtype([(\"qint32\", np.int32, 1)])\n",
      "C:\\Users\\Nadhiya\\anaconda3\\lib\\site-packages\\tensorboard\\compat\\tensorflow_stub\\dtypes.py:550: FutureWarning: Passing (type, 1) or '1type' as a synonym of type is deprecated; in a future version of numpy, it will be understood as (type, (1,)) / '(1,)type'.\n",
      "  np_resource = np.dtype([(\"resource\", np.ubyte, 1)])\n"
     ]
    }
   ],
   "source": [
    "from keras.models import Sequential\n",
    "from keras.layers import Dense\n",
    "from keras.layers import Convolution2D\n",
    "from keras.layers import MaxPooling2D\n",
    "from keras.layers import Flatten\n",
    "from keras.layers import Dropout\n",
    "from keras.preprocessing.image import ImageDataGenerator"
   ]
  },
  {
   "cell_type": "code",
   "execution_count": 2,
   "metadata": {},
   "outputs": [],
   "source": [
    "train_datagenerator=ImageDataGenerator(rescale=1./255,shear_range=0.2,zoom_range=0.2,horizontal_flip=True)\n",
    "test_datagenerator=ImageDataGenerator(rescale=1./255)"
   ]
  },
  {
   "cell_type": "code",
   "execution_count": 3,
   "metadata": {},
   "outputs": [
    {
     "name": "stdout",
     "output_type": "stream",
     "text": [
      "Found 1244 images belonging to 2 classes.\n",
      "Found 284 images belonging to 2 classes.\n"
     ]
    }
   ],
   "source": [
    "x_train=train_datagenerator.flow_from_directory(r\"F:\\Data\\training\",target_size=(64,64),batch_size=32,class_mode=\"binary\")\n",
    "x_test=test_datagenerator.flow_from_directory(r\"F:\\Data\\testing\",target_size=(64,64),batch_size=32,class_mode=\"binary\")"
   ]
  },
  {
   "cell_type": "code",
   "execution_count": 4,
   "metadata": {},
   "outputs": [
    {
     "data": {
      "text/plain": [
       "{'beginan': 0, 'malignant': 1}"
      ]
     },
     "execution_count": 4,
     "metadata": {},
     "output_type": "execute_result"
    }
   ],
   "source": [
    "x_train.class_indices"
   ]
  },
  {
   "cell_type": "code",
   "execution_count": 5,
   "metadata": {},
   "outputs": [
    {
     "name": "stdout",
     "output_type": "stream",
     "text": [
      "WARNING:tensorflow:From C:\\Users\\Nadhiya\\anaconda3\\lib\\site-packages\\keras\\backend\\tensorflow_backend.py:74: The name tf.get_default_graph is deprecated. Please use tf.compat.v1.get_default_graph instead.\n",
      "\n"
     ]
    }
   ],
   "source": [
    "model=Sequential()"
   ]
  },
  {
   "cell_type": "code",
   "execution_count": 6,
   "metadata": {},
   "outputs": [
    {
     "name": "stdout",
     "output_type": "stream",
     "text": [
      "WARNING:tensorflow:From C:\\Users\\Nadhiya\\anaconda3\\lib\\site-packages\\keras\\backend\\tensorflow_backend.py:517: The name tf.placeholder is deprecated. Please use tf.compat.v1.placeholder instead.\n",
      "\n",
      "WARNING:tensorflow:From C:\\Users\\Nadhiya\\anaconda3\\lib\\site-packages\\keras\\backend\\tensorflow_backend.py:4138: The name tf.random_uniform is deprecated. Please use tf.random.uniform instead.\n",
      "\n"
     ]
    }
   ],
   "source": [
    "model.add(Convolution2D(32,(3,3),input_shape=(64,64,3),activation='relu'))"
   ]
  },
  {
   "cell_type": "code",
   "execution_count": 7,
   "metadata": {},
   "outputs": [
    {
     "name": "stdout",
     "output_type": "stream",
     "text": [
      "WARNING:tensorflow:From C:\\Users\\Nadhiya\\anaconda3\\lib\\site-packages\\keras\\backend\\tensorflow_backend.py:3976: The name tf.nn.max_pool is deprecated. Please use tf.nn.max_pool2d instead.\n",
      "\n"
     ]
    }
   ],
   "source": [
    "model.add(MaxPooling2D(pool_size=(2,2)))"
   ]
  },
  {
   "cell_type": "code",
   "execution_count": 8,
   "metadata": {},
   "outputs": [
    {
     "name": "stdout",
     "output_type": "stream",
     "text": [
      "WARNING:tensorflow:From C:\\Users\\Nadhiya\\anaconda3\\lib\\site-packages\\keras\\backend\\tensorflow_backend.py:133: The name tf.placeholder_with_default is deprecated. Please use tf.compat.v1.placeholder_with_default instead.\n",
      "\n",
      "WARNING:tensorflow:From C:\\Users\\Nadhiya\\anaconda3\\lib\\site-packages\\keras\\backend\\tensorflow_backend.py:3445: calling dropout (from tensorflow.python.ops.nn_ops) with keep_prob is deprecated and will be removed in a future version.\n",
      "Instructions for updating:\n",
      "Please use `rate` instead of `keep_prob`. Rate should be set to `rate = 1 - keep_prob`.\n"
     ]
    }
   ],
   "source": [
    "model.add(Convolution2D(64,(3,3),input_shape=(32,32,3),activation='relu'))\n",
    "model.add(Dropout(0.5))"
   ]
  },
  {
   "cell_type": "code",
   "execution_count": 9,
   "metadata": {},
   "outputs": [],
   "source": [
    "model.add(Flatten())"
   ]
  },
  {
   "cell_type": "code",
   "execution_count": 10,
   "metadata": {},
   "outputs": [
    {
     "name": "stderr",
     "output_type": "stream",
     "text": [
      "C:\\Users\\Nadhiya\\anaconda3\\lib\\site-packages\\ipykernel_launcher.py:1: UserWarning: Update your `Dense` call to the Keras 2 API: `Dense(units=128, activation=\"relu\", kernel_initializer=\"random_uniform\")`\n",
      "  \"\"\"Entry point for launching an IPython kernel.\n"
     ]
    }
   ],
   "source": [
    "model.add(Dense(units=128,init=\"random_uniform\",activation=\"relu\"))"
   ]
  },
  {
   "cell_type": "code",
   "execution_count": 11,
   "metadata": {},
   "outputs": [
    {
     "name": "stderr",
     "output_type": "stream",
     "text": [
      "C:\\Users\\Nadhiya\\anaconda3\\lib\\site-packages\\ipykernel_launcher.py:1: UserWarning: Update your `Dense` call to the Keras 2 API: `Dense(units=64, activation=\"relu\", kernel_initializer=\"random_uniform\")`\n",
      "  \"\"\"Entry point for launching an IPython kernel.\n"
     ]
    }
   ],
   "source": [
    "model.add(Dense(units=64,init=\"random_uniform\",activation=\"relu\"))"
   ]
  },
  {
   "cell_type": "code",
   "execution_count": 12,
   "metadata": {},
   "outputs": [
    {
     "name": "stderr",
     "output_type": "stream",
     "text": [
      "C:\\Users\\Nadhiya\\anaconda3\\lib\\site-packages\\ipykernel_launcher.py:1: UserWarning: Update your `Dense` call to the Keras 2 API: `Dense(units=1, activation=\"sigmoid\", kernel_initializer=\"random_uniform\")`\n",
      "  \"\"\"Entry point for launching an IPython kernel.\n"
     ]
    }
   ],
   "source": [
    "model.add(Dense(units=1,init=\"random_uniform\",activation=\"sigmoid\"))"
   ]
  },
  {
   "cell_type": "code",
   "execution_count": 13,
   "metadata": {},
   "outputs": [
    {
     "name": "stdout",
     "output_type": "stream",
     "text": [
      "WARNING:tensorflow:From C:\\Users\\Nadhiya\\anaconda3\\lib\\site-packages\\keras\\optimizers.py:790: The name tf.train.Optimizer is deprecated. Please use tf.compat.v1.train.Optimizer instead.\n",
      "\n",
      "WARNING:tensorflow:From C:\\Users\\Nadhiya\\anaconda3\\lib\\site-packages\\keras\\backend\\tensorflow_backend.py:3376: The name tf.log is deprecated. Please use tf.math.log instead.\n",
      "\n",
      "WARNING:tensorflow:From C:\\Users\\Nadhiya\\anaconda3\\lib\\site-packages\\tensorflow\\python\\ops\\nn_impl.py:180: add_dispatch_support.<locals>.wrapper (from tensorflow.python.ops.array_ops) is deprecated and will be removed in a future version.\n",
      "Instructions for updating:\n",
      "Use tf.where in 2.0, which has the same broadcast rule as np.where\n"
     ]
    }
   ],
   "source": [
    "model.compile(loss=\"binary_crossentropy\",optimizer=\"adam\",metrics=[\"accuracy\"])"
   ]
  },
  {
   "cell_type": "code",
   "execution_count": 14,
   "metadata": {},
   "outputs": [
    {
     "name": "stdout",
     "output_type": "stream",
     "text": [
      "Epoch 1/150\n",
      "20/20 [==============================] - 28s 1s/step - loss: 0.5800 - acc: 0.7391 - val_loss: 0.6474 - val_acc: 0.6250\n",
      "Epoch 2/150\n",
      "20/20 [==============================] - 14s 700ms/step - loss: 0.5089 - acc: 0.7793 - val_loss: 0.5953 - val_acc: 0.6702\n",
      "Epoch 3/150\n",
      "20/20 [==============================] - 7s 342ms/step - loss: 0.5108 - acc: 0.7734 - val_loss: 0.6355 - val_acc: 0.6596\n",
      "Epoch 4/150\n",
      "20/20 [==============================] - 7s 350ms/step - loss: 0.4910 - acc: 0.7639 - val_loss: 0.5225 - val_acc: 0.6615\n",
      "Epoch 5/150\n",
      "20/20 [==============================] - 7s 353ms/step - loss: 0.4054 - acc: 0.7906 - val_loss: 0.5853 - val_acc: 0.7074\n",
      "Epoch 6/150\n",
      "20/20 [==============================] - 7s 348ms/step - loss: 0.4626 - acc: 0.7976 - val_loss: 0.4853 - val_acc: 0.7606\n",
      "Epoch 7/150\n",
      "20/20 [==============================] - 7s 338ms/step - loss: 0.3832 - acc: 0.8406 - val_loss: 0.3550 - val_acc: 0.8333\n",
      "Epoch 8/150\n",
      "20/20 [==============================] - 7s 351ms/step - loss: 0.4146 - acc: 0.8210 - val_loss: 0.4250 - val_acc: 0.9043\n",
      "Epoch 9/150\n",
      "20/20 [==============================] - 7s 338ms/step - loss: 0.3504 - acc: 0.8672 - val_loss: 0.2599 - val_acc: 0.8989\n",
      "Epoch 10/150\n",
      "20/20 [==============================] - 7s 335ms/step - loss: 0.3331 - acc: 0.8587 - val_loss: 0.3041 - val_acc: 0.8646\n",
      "Epoch 11/150\n",
      "20/20 [==============================] - 7s 337ms/step - loss: 0.3287 - acc: 0.8562 - val_loss: 0.2282 - val_acc: 0.8883\n",
      "Epoch 12/150\n",
      "20/20 [==============================] - 7s 338ms/step - loss: 0.3170 - acc: 0.8741 - val_loss: 0.2782 - val_acc: 0.8617\n",
      "Epoch 13/150\n",
      "20/20 [==============================] - 7s 341ms/step - loss: 0.2858 - acc: 0.8891 - val_loss: 0.2324 - val_acc: 0.8802\n",
      "Epoch 14/150\n",
      "20/20 [==============================] - 7s 352ms/step - loss: 0.3286 - acc: 0.8630 - val_loss: 0.2587 - val_acc: 0.8564\n",
      "Epoch 15/150\n",
      "20/20 [==============================] - 7s 350ms/step - loss: 0.2863 - acc: 0.8797 - val_loss: 0.2514 - val_acc: 0.8883\n",
      "Epoch 16/150\n",
      "20/20 [==============================] - 7s 347ms/step - loss: 0.3720 - acc: 0.8475 - val_loss: 0.2719 - val_acc: 0.8698\n",
      "Epoch 17/150\n",
      "20/20 [==============================] - 7s 335ms/step - loss: 0.2541 - acc: 0.9000 - val_loss: 0.2382 - val_acc: 0.9096\n",
      "Epoch 18/150\n",
      "20/20 [==============================] - 7s 334ms/step - loss: 0.3239 - acc: 0.8618 - val_loss: 0.2316 - val_acc: 0.8883\n",
      "Epoch 19/150\n",
      "20/20 [==============================] - 7s 342ms/step - loss: 0.2911 - acc: 0.8641 - val_loss: 0.2359 - val_acc: 0.8698\n",
      "Epoch 20/150\n",
      "20/20 [==============================] - 7s 366ms/step - loss: 0.2531 - acc: 0.8984 - val_loss: 0.2595 - val_acc: 0.8564\n",
      "Epoch 21/150\n",
      "20/20 [==============================] - 7s 354ms/step - loss: 0.2559 - acc: 0.8859 - val_loss: 0.2556 - val_acc: 0.8511\n",
      "Epoch 22/150\n",
      "20/20 [==============================] - 7s 341ms/step - loss: 0.2945 - acc: 0.8759 - val_loss: 0.2332 - val_acc: 0.9010\n",
      "Epoch 23/150\n",
      "20/20 [==============================] - 7s 343ms/step - loss: 0.2791 - acc: 0.8813 - val_loss: 0.2630 - val_acc: 0.8404\n",
      "Epoch 24/150\n",
      "20/20 [==============================] - 7s 358ms/step - loss: 0.2658 - acc: 0.8866 - val_loss: 0.2768 - val_acc: 0.8936\n",
      "Epoch 25/150\n",
      "20/20 [==============================] - 7s 358ms/step - loss: 0.2820 - acc: 0.8906 - val_loss: 0.2664 - val_acc: 0.8490\n",
      "Epoch 26/150\n",
      "20/20 [==============================] - 7s 350ms/step - loss: 0.2777 - acc: 0.8730 - val_loss: 0.2499 - val_acc: 0.8617\n",
      "Epoch 27/150\n",
      "20/20 [==============================] - 7s 335ms/step - loss: 0.2476 - acc: 0.8828 - val_loss: 0.2137 - val_acc: 0.8883\n",
      "Epoch 28/150\n",
      "20/20 [==============================] - 7s 341ms/step - loss: 0.2602 - acc: 0.8866 - val_loss: 0.2519 - val_acc: 0.8438\n",
      "Epoch 29/150\n",
      "20/20 [==============================] - 7s 335ms/step - loss: 0.2641 - acc: 0.8781 - val_loss: 0.2242 - val_acc: 0.8777\n",
      "Epoch 30/150\n",
      "20/20 [==============================] - 7s 337ms/step - loss: 0.2571 - acc: 0.8907 - val_loss: 0.2693 - val_acc: 0.8670\n",
      "Epoch 31/150\n",
      "20/20 [==============================] - 7s 363ms/step - loss: 0.2607 - acc: 0.8984 - val_loss: 0.2527 - val_acc: 0.8802\n",
      "Epoch 32/150\n",
      "20/20 [==============================] - 7s 364ms/step - loss: 0.2500 - acc: 0.8904 - val_loss: 0.2233 - val_acc: 0.8564\n",
      "Epoch 33/150\n",
      "20/20 [==============================] - 7s 374ms/step - loss: 0.2217 - acc: 0.9062 - val_loss: 0.3402 - val_acc: 0.8777\n",
      "Epoch 34/150\n",
      "20/20 [==============================] - 7s 363ms/step - loss: 0.2408 - acc: 0.8973 - val_loss: 0.1924 - val_acc: 0.8854\n",
      "Epoch 35/150\n",
      "20/20 [==============================] - 7s 334ms/step - loss: 0.2532 - acc: 0.8953 - val_loss: 0.3428 - val_acc: 0.8351\n",
      "Epoch 36/150\n",
      "20/20 [==============================] - 7s 334ms/step - loss: 0.2142 - acc: 0.9185 - val_loss: 0.2160 - val_acc: 0.8670\n",
      "Epoch 37/150\n",
      "20/20 [==============================] - 7s 338ms/step - loss: 0.2433 - acc: 0.8938 - val_loss: 0.3675 - val_acc: 0.8854\n",
      "Epoch 38/150\n",
      "20/20 [==============================] - 7s 334ms/step - loss: 0.2861 - acc: 0.8770 - val_loss: 0.2228 - val_acc: 0.8830\n",
      "Epoch 39/150\n",
      "20/20 [==============================] - 7s 336ms/step - loss: 0.2427 - acc: 0.9044 - val_loss: 0.2862 - val_acc: 0.8670\n",
      "Epoch 40/150\n",
      "20/20 [==============================] - 7s 348ms/step - loss: 0.2571 - acc: 0.9016 - val_loss: 0.2741 - val_acc: 0.8281\n",
      "Epoch 41/150\n",
      "20/20 [==============================] - 7s 343ms/step - loss: 0.2676 - acc: 0.8804 - val_loss: 0.2592 - val_acc: 0.8777\n",
      "Epoch 42/150\n",
      "20/20 [==============================] - 7s 365ms/step - loss: 0.2323 - acc: 0.9109 - val_loss: 0.2136 - val_acc: 0.8564\n",
      "Epoch 43/150\n",
      "20/20 [==============================] - 7s 358ms/step - loss: 0.2597 - acc: 0.8935 - val_loss: 0.2495 - val_acc: 0.8438\n",
      "Epoch 44/150\n",
      "20/20 [==============================] - 7s 364ms/step - loss: 0.2345 - acc: 0.9047 - val_loss: 0.2654 - val_acc: 0.8511\n",
      "Epoch 45/150\n",
      "20/20 [==============================] - 7s 345ms/step - loss: 0.2268 - acc: 0.9022 - val_loss: 0.2375 - val_acc: 0.8564\n",
      "Epoch 46/150\n",
      "20/20 [==============================] - 7s 356ms/step - loss: 0.2280 - acc: 0.9031 - val_loss: 0.2433 - val_acc: 0.8281\n",
      "Epoch 47/150\n",
      "20/20 [==============================] - 7s 362ms/step - loss: 0.2270 - acc: 0.9009 - val_loss: 0.1922 - val_acc: 0.8777\n",
      "Epoch 48/150\n",
      "20/20 [==============================] - 8s 405ms/step - loss: 0.1786 - acc: 0.9109 - val_loss: 0.2966 - val_acc: 0.8617\n",
      "Epoch 49/150\n",
      "20/20 [==============================] - 7s 354ms/step - loss: 0.2494 - acc: 0.9089 - val_loss: 0.2734 - val_acc: 0.8542\n",
      "Epoch 50/150\n",
      "20/20 [==============================] - 7s 342ms/step - loss: 0.2405 - acc: 0.8891 - val_loss: 0.2099 - val_acc: 0.8670\n",
      "Epoch 51/150\n",
      "20/20 [==============================] - 7s 334ms/step - loss: 0.2163 - acc: 0.9136 - val_loss: 0.2805 - val_acc: 0.8564\n",
      "Epoch 52/150\n",
      "20/20 [==============================] - 7s 337ms/step - loss: 0.2256 - acc: 0.9016 - val_loss: 0.2205 - val_acc: 0.8594\n",
      "Epoch 53/150\n",
      "20/20 [==============================] - 7s 335ms/step - loss: 0.2183 - acc: 0.9013 - val_loss: 0.2517 - val_acc: 0.8511\n",
      "Epoch 54/150\n",
      "20/20 [==============================] - 7s 338ms/step - loss: 0.2065 - acc: 0.9234 - val_loss: 0.1874 - val_acc: 0.8936\n",
      "Epoch 55/150\n",
      "20/20 [==============================] - 7s 335ms/step - loss: 0.2151 - acc: 0.9058 - val_loss: 0.2838 - val_acc: 0.8490\n",
      "Epoch 56/150\n",
      "20/20 [==============================] - 7s 352ms/step - loss: 0.1879 - acc: 0.9156 - val_loss: 0.1902 - val_acc: 0.8723\n",
      "Epoch 57/150\n",
      "20/20 [==============================] - 8s 400ms/step - loss: 0.2187 - acc: 0.9029 - val_loss: 0.2422 - val_acc: 0.8670\n",
      "Epoch 58/150\n",
      "20/20 [==============================] - 7s 361ms/step - loss: 0.1998 - acc: 0.9156 - val_loss: 0.2241 - val_acc: 0.8646\n",
      "Epoch 59/150\n",
      "20/20 [==============================] - 7s 357ms/step - loss: 0.1690 - acc: 0.9230 - val_loss: 0.1852 - val_acc: 0.8777\n",
      "Epoch 60/150\n",
      "20/20 [==============================] - 7s 354ms/step - loss: 0.1892 - acc: 0.9312 - val_loss: 0.2621 - val_acc: 0.8564\n",
      "Epoch 61/150\n",
      "20/20 [==============================] - 7s 355ms/step - loss: 0.2034 - acc: 0.9087 - val_loss: 0.2519 - val_acc: 0.8281\n",
      "Epoch 62/150\n"
     ]
    },
    {
     "name": "stdout",
     "output_type": "stream",
     "text": [
      "20/20 [==============================] - 7s 365ms/step - loss: 0.2534 - acc: 0.8938 - val_loss: 0.1842 - val_acc: 0.9043\n",
      "Epoch 63/150\n",
      "20/20 [==============================] - 7s 355ms/step - loss: 0.2231 - acc: 0.8949 - val_loss: 0.2165 - val_acc: 0.8564\n",
      "Epoch 64/150\n",
      "20/20 [==============================] - 7s 347ms/step - loss: 0.2044 - acc: 0.9094 - val_loss: 0.2018 - val_acc: 0.8802\n",
      "Epoch 65/150\n",
      "20/20 [==============================] - 7s 346ms/step - loss: 0.2399 - acc: 0.9232 - val_loss: 0.2463 - val_acc: 0.8617\n",
      "Epoch 66/150\n",
      "20/20 [==============================] - 7s 343ms/step - loss: 0.2196 - acc: 0.9078 - val_loss: 0.2029 - val_acc: 0.8723\n",
      "Epoch 67/150\n",
      "20/20 [==============================] - 7s 357ms/step - loss: 0.1819 - acc: 0.9183 - val_loss: 0.2181 - val_acc: 0.8802\n",
      "Epoch 68/150\n",
      "20/20 [==============================] - 7s 363ms/step - loss: 0.2207 - acc: 0.9062 - val_loss: 0.2303 - val_acc: 0.8511\n",
      "Epoch 69/150\n",
      "20/20 [==============================] - 7s 340ms/step - loss: 0.1992 - acc: 0.9201 - val_loss: 0.2490 - val_acc: 0.8457\n",
      "Epoch 70/150\n",
      "20/20 [==============================] - 6s 312ms/step - loss: 0.2118 - acc: 0.9125 - val_loss: 0.2461 - val_acc: 0.8594\n",
      "Epoch 71/150\n",
      "20/20 [==============================] - 7s 342ms/step - loss: 0.2169 - acc: 0.8980 - val_loss: 0.2285 - val_acc: 0.8511\n",
      "Epoch 72/150\n",
      "20/20 [==============================] - 7s 342ms/step - loss: 0.1490 - acc: 0.9359 - val_loss: 0.2070 - val_acc: 0.8830\n",
      "Epoch 73/150\n",
      "20/20 [==============================] - 7s 337ms/step - loss: 0.1794 - acc: 0.9132 - val_loss: 0.1813 - val_acc: 0.8854\n",
      "Epoch 74/150\n",
      "20/20 [==============================] - 7s 336ms/step - loss: 0.2057 - acc: 0.9109 - val_loss: 0.2627 - val_acc: 0.8670\n",
      "Epoch 75/150\n",
      "20/20 [==============================] - 7s 337ms/step - loss: 0.2453 - acc: 0.8888 - val_loss: 0.1697 - val_acc: 0.9043\n",
      "Epoch 76/150\n",
      "20/20 [==============================] - 7s 351ms/step - loss: 0.1915 - acc: 0.9234 - val_loss: 0.2665 - val_acc: 0.8438\n",
      "Epoch 77/150\n",
      "20/20 [==============================] - 7s 372ms/step - loss: 0.1819 - acc: 0.9060 - val_loss: 0.2032 - val_acc: 0.8830\n",
      "Epoch 78/150\n",
      "20/20 [==============================] - 7s 355ms/step - loss: 0.1954 - acc: 0.9243 - val_loss: 0.1838 - val_acc: 0.8883\n",
      "Epoch 79/150\n",
      "20/20 [==============================] - 7s 352ms/step - loss: 0.1753 - acc: 0.9203 - val_loss: 0.1784 - val_acc: 0.8802\n",
      "Epoch 80/150\n",
      "20/20 [==============================] - 7s 359ms/step - loss: 0.1746 - acc: 0.9185 - val_loss: 0.1988 - val_acc: 0.8830\n",
      "Epoch 81/150\n",
      "20/20 [==============================] - 7s 366ms/step - loss: 0.1407 - acc: 0.9328 - val_loss: 0.2647 - val_acc: 0.8564\n",
      "Epoch 82/150\n",
      "20/20 [==============================] - 7s 365ms/step - loss: 0.2256 - acc: 0.8998 - val_loss: 0.1901 - val_acc: 0.8750\n",
      "Epoch 83/150\n",
      "20/20 [==============================] - 8s 387ms/step - loss: 0.2056 - acc: 0.9156 - val_loss: 0.2199 - val_acc: 0.8989\n",
      "Epoch 84/150\n",
      "20/20 [==============================] - 8s 395ms/step - loss: 0.2026 - acc: 0.9279 - val_loss: 0.2649 - val_acc: 0.8404\n",
      "Epoch 85/150\n",
      "20/20 [==============================] - 7s 357ms/step - loss: 0.1875 - acc: 0.9125 - val_loss: 0.1830 - val_acc: 0.8750\n",
      "Epoch 86/150\n",
      "20/20 [==============================] - 7s 335ms/step - loss: 0.1750 - acc: 0.9210 - val_loss: 0.2732 - val_acc: 0.8723\n",
      "Epoch 87/150\n",
      "20/20 [==============================] - 7s 340ms/step - loss: 0.1674 - acc: 0.9281 - val_loss: 0.3345 - val_acc: 0.8511\n",
      "Epoch 88/150\n",
      "20/20 [==============================] - 7s 337ms/step - loss: 0.2032 - acc: 0.9101 - val_loss: 0.1653 - val_acc: 0.8906\n",
      "Epoch 89/150\n",
      "20/20 [==============================] - 7s 333ms/step - loss: 0.1532 - acc: 0.9328 - val_loss: 0.5045 - val_acc: 0.8351\n",
      "Epoch 90/150\n",
      "20/20 [==============================] - 7s 328ms/step - loss: 0.1931 - acc: 0.9159 - val_loss: 0.1821 - val_acc: 0.8989\n",
      "Epoch 91/150\n",
      "20/20 [==============================] - 7s 336ms/step - loss: 0.1795 - acc: 0.9203 - val_loss: 0.2281 - val_acc: 0.9010\n",
      "Epoch 92/150\n",
      "20/20 [==============================] - 7s 344ms/step - loss: 0.1625 - acc: 0.9136 - val_loss: 0.2788 - val_acc: 0.8723\n",
      "Epoch 93/150\n",
      "20/20 [==============================] - 6s 311ms/step - loss: 0.1823 - acc: 0.9266 - val_loss: 0.2341 - val_acc: 0.8777\n",
      "Epoch 94/150\n",
      "20/20 [==============================] - 7s 336ms/step - loss: 0.1558 - acc: 0.9322 - val_loss: 0.1828 - val_acc: 0.8854\n",
      "Epoch 95/150\n",
      "20/20 [==============================] - 8s 391ms/step - loss: 0.1663 - acc: 0.9125 - val_loss: 0.1576 - val_acc: 0.8989\n",
      "Epoch 96/150\n",
      "20/20 [==============================] - 8s 380ms/step - loss: 0.1621 - acc: 0.9295 - val_loss: 0.1751 - val_acc: 0.9043\n",
      "Epoch 97/150\n",
      "20/20 [==============================] - 7s 359ms/step - loss: 0.1409 - acc: 0.9438 - val_loss: 0.1878 - val_acc: 0.8854\n",
      "Epoch 98/150\n",
      "20/20 [==============================] - 8s 377ms/step - loss: 0.1583 - acc: 0.9312 - val_loss: 0.2691 - val_acc: 0.8830\n",
      "Epoch 99/150\n",
      "20/20 [==============================] - 7s 352ms/step - loss: 0.3189 - acc: 0.8531 - val_loss: 0.3422 - val_acc: 0.8404\n",
      "Epoch 100/150\n",
      "20/20 [==============================] - 7s 373ms/step - loss: 0.2557 - acc: 0.8919 - val_loss: 0.1700 - val_acc: 0.9219\n",
      "Epoch 101/150\n",
      "20/20 [==============================] - 7s 366ms/step - loss: 0.2027 - acc: 0.8984 - val_loss: 0.3103 - val_acc: 0.8511\n",
      "Epoch 102/150\n",
      "20/20 [==============================] - 8s 385ms/step - loss: 0.1877 - acc: 0.9120 - val_loss: 0.1723 - val_acc: 0.8830\n",
      "Epoch 103/150\n",
      "20/20 [==============================] - 7s 361ms/step - loss: 0.1843 - acc: 0.9203 - val_loss: 0.1488 - val_acc: 0.9062\n",
      "Epoch 104/150\n",
      "20/20 [==============================] - 8s 383ms/step - loss: 0.1755 - acc: 0.9263 - val_loss: 0.2486 - val_acc: 0.8777\n",
      "Epoch 105/150\n",
      "20/20 [==============================] - 8s 394ms/step - loss: 0.1401 - acc: 0.9484 - val_loss: 0.2553 - val_acc: 0.8564\n",
      "Epoch 106/150\n",
      "20/20 [==============================] - 8s 377ms/step - loss: 0.1810 - acc: 0.9210 - val_loss: 0.1500 - val_acc: 0.9062\n",
      "Epoch 107/150\n",
      "20/20 [==============================] - 7s 349ms/step - loss: 0.1606 - acc: 0.9219 - val_loss: 0.2246 - val_acc: 0.9096\n",
      "Epoch 108/150\n",
      "20/20 [==============================] - 7s 348ms/step - loss: 0.1308 - acc: 0.9400 - val_loss: 0.2430 - val_acc: 0.8723\n",
      "Epoch 109/150\n",
      "20/20 [==============================] - 7s 347ms/step - loss: 0.1668 - acc: 0.9328 - val_loss: 0.2985 - val_acc: 0.8698\n",
      "Epoch 110/150\n",
      "20/20 [==============================] - 7s 345ms/step - loss: 0.1341 - acc: 0.9324 - val_loss: 0.1676 - val_acc: 0.8989\n",
      "Epoch 111/150\n",
      "20/20 [==============================] - 7s 339ms/step - loss: 0.1545 - acc: 0.9328 - val_loss: 0.1411 - val_acc: 0.9096\n",
      "Epoch 112/150\n",
      "20/20 [==============================] - 7s 337ms/step - loss: 0.1352 - acc: 0.9371 - val_loss: 0.1940 - val_acc: 0.8958\n",
      "Epoch 113/150\n",
      "20/20 [==============================] - 7s 361ms/step - loss: 0.1429 - acc: 0.9438 - val_loss: 0.1818 - val_acc: 0.9043\n",
      "Epoch 114/150\n",
      "20/20 [==============================] - 7s 363ms/step - loss: 0.1631 - acc: 0.9290 - val_loss: 0.1661 - val_acc: 0.9043\n",
      "Epoch 115/150\n",
      "20/20 [==============================] - 7s 368ms/step - loss: 0.1876 - acc: 0.9250 - val_loss: 0.1725 - val_acc: 0.9115\n",
      "Epoch 116/150\n",
      "20/20 [==============================] - 8s 378ms/step - loss: 0.1647 - acc: 0.9366 - val_loss: 0.1851 - val_acc: 0.9096\n",
      "Epoch 117/150\n",
      "20/20 [==============================] - 7s 357ms/step - loss: 0.2224 - acc: 0.9199 - val_loss: 0.2619 - val_acc: 0.8830\n",
      "Epoch 118/150\n",
      "20/20 [==============================] - 7s 345ms/step - loss: 0.2125 - acc: 0.9125 - val_loss: 0.2181 - val_acc: 0.8594\n",
      "Epoch 119/150\n",
      "20/20 [==============================] - 7s 342ms/step - loss: 0.1895 - acc: 0.9101 - val_loss: 0.1278 - val_acc: 0.9362\n",
      "Epoch 120/150\n",
      "20/20 [==============================] - 7s 341ms/step - loss: 0.1462 - acc: 0.9391 - val_loss: 0.1756 - val_acc: 0.8989\n",
      "Epoch 121/150\n",
      "20/20 [==============================] - 7s 339ms/step - loss: 0.1567 - acc: 0.9292 - val_loss: 0.1548 - val_acc: 0.9115\n",
      "Epoch 122/150\n",
      "20/20 [==============================] - 7s 343ms/step - loss: 0.1400 - acc: 0.9438 - val_loss: 0.2296 - val_acc: 0.8830\n",
      "Epoch 123/150\n"
     ]
    },
    {
     "name": "stdout",
     "output_type": "stream",
     "text": [
      "20/20 [==============================] - 7s 339ms/step - loss: 0.1504 - acc: 0.9290 - val_loss: 0.1707 - val_acc: 0.8989\n",
      "Epoch 124/150\n",
      "20/20 [==============================] - 7s 341ms/step - loss: 0.1481 - acc: 0.9406 - val_loss: 0.2885 - val_acc: 0.8750\n",
      "Epoch 125/150\n",
      "20/20 [==============================] - 7s 340ms/step - loss: 0.1643 - acc: 0.9357 - val_loss: 0.2027 - val_acc: 0.8830\n",
      "Epoch 126/150\n",
      "20/20 [==============================] - 7s 339ms/step - loss: 0.1518 - acc: 0.9422 - val_loss: 0.2798 - val_acc: 0.8564\n",
      "Epoch 127/150\n",
      "20/20 [==============================] - 7s 374ms/step - loss: 0.1903 - acc: 0.9216 - val_loss: 0.4341 - val_acc: 0.8958\n",
      "Epoch 128/150\n",
      "20/20 [==============================] - 7s 363ms/step - loss: 0.2274 - acc: 0.9094 - val_loss: 0.2979 - val_acc: 0.8777\n",
      "Epoch 129/150\n",
      "20/20 [==============================] - 8s 396ms/step - loss: 0.2157 - acc: 0.9120 - val_loss: 0.1844 - val_acc: 0.8777\n",
      "Epoch 130/150\n",
      "20/20 [==============================] - 7s 374ms/step - loss: 0.1637 - acc: 0.9344 - val_loss: 0.1530 - val_acc: 0.9219\n",
      "Epoch 131/150\n",
      "20/20 [==============================] - 7s 364ms/step - loss: 0.1549 - acc: 0.9259 - val_loss: 0.1457 - val_acc: 0.9362\n",
      "Epoch 132/150\n",
      "20/20 [==============================] - 7s 373ms/step - loss: 0.1435 - acc: 0.9484 - val_loss: 0.2605 - val_acc: 0.8936\n",
      "Epoch 133/150\n",
      "20/20 [==============================] - 7s 343ms/step - loss: 0.1613 - acc: 0.9388 - val_loss: 0.1500 - val_acc: 0.9375\n",
      "Epoch 134/150\n",
      "20/20 [==============================] - 7s 351ms/step - loss: 0.1365 - acc: 0.9406 - val_loss: 0.1913 - val_acc: 0.8830\n",
      "Epoch 135/150\n",
      "20/20 [==============================] - 7s 343ms/step - loss: 0.1172 - acc: 0.9449 - val_loss: 0.1839 - val_acc: 0.8936\n",
      "Epoch 136/150\n",
      "20/20 [==============================] - 7s 359ms/step - loss: 0.1233 - acc: 0.9469 - val_loss: 0.2358 - val_acc: 0.9010\n",
      "Epoch 137/150\n",
      "20/20 [==============================] - 7s 363ms/step - loss: 0.1263 - acc: 0.9545 - val_loss: 0.1543 - val_acc: 0.9202\n",
      "Epoch 138/150\n",
      "20/20 [==============================] - 7s 373ms/step - loss: 0.1750 - acc: 0.9297 - val_loss: 0.1412 - val_acc: 0.9415\n",
      "Epoch 139/150\n",
      "20/20 [==============================] - 7s 348ms/step - loss: 0.1534 - acc: 0.9199 - val_loss: 0.1444 - val_acc: 0.9271\n",
      "Epoch 140/150\n",
      "20/20 [==============================] - 8s 389ms/step - loss: 0.1406 - acc: 0.9359 - val_loss: 0.1480 - val_acc: 0.9096\n",
      "Epoch 141/150\n",
      "20/20 [==============================] - 7s 364ms/step - loss: 0.1081 - acc: 0.9531 - val_loss: 0.2692 - val_acc: 0.8883\n",
      "Epoch 142/150\n",
      "20/20 [==============================] - 7s 355ms/step - loss: 0.1591 - acc: 0.9297 - val_loss: 0.1667 - val_acc: 0.9062\n",
      "Epoch 143/150\n",
      "20/20 [==============================] - 7s 353ms/step - loss: 0.1482 - acc: 0.9435 - val_loss: 0.1793 - val_acc: 0.8936\n",
      "Epoch 144/150\n",
      "20/20 [==============================] - 7s 372ms/step - loss: 0.1117 - acc: 0.9516 - val_loss: 0.1666 - val_acc: 0.9202\n",
      "Epoch 145/150\n",
      "20/20 [==============================] - 7s 360ms/step - loss: 0.1266 - acc: 0.9406 - val_loss: 0.1194 - val_acc: 0.9479\n",
      "Epoch 146/150\n",
      "20/20 [==============================] - 7s 355ms/step - loss: 0.1041 - acc: 0.9531 - val_loss: 0.0887 - val_acc: 0.9681\n",
      "Epoch 147/150\n",
      "20/20 [==============================] - 7s 367ms/step - loss: 0.1502 - acc: 0.9339 - val_loss: 0.1831 - val_acc: 0.9149\n",
      "Epoch 148/150\n",
      "20/20 [==============================] - 7s 372ms/step - loss: 0.3167 - acc: 0.9266 - val_loss: 0.4385 - val_acc: 0.8333\n",
      "Epoch 149/150\n",
      "20/20 [==============================] - 7s 355ms/step - loss: 0.2876 - acc: 0.8733 - val_loss: 0.1977 - val_acc: 0.9255\n",
      "Epoch 150/150\n",
      "20/20 [==============================] - 8s 379ms/step - loss: 0.1803 - acc: 0.9250 - val_loss: 0.1573 - val_acc: 0.9309\n"
     ]
    },
    {
     "data": {
      "text/plain": [
       "<keras.callbacks.History at 0x26a0bcf5dc8>"
      ]
     },
     "execution_count": 14,
     "metadata": {},
     "output_type": "execute_result"
    }
   ],
   "source": [
    "model.fit_generator(x_train,steps_per_epoch = 20,epochs=150,validation_data=x_test,validation_steps=6)"
   ]
  },
  {
   "cell_type": "code",
   "execution_count": 15,
   "metadata": {},
   "outputs": [],
   "source": [
    "model.save('d1.h5')"
   ]
  },
  {
   "cell_type": "code",
   "execution_count": 16,
   "metadata": {},
   "outputs": [],
   "source": [
    "from keras.models import load_model\n",
    "from keras.preprocessing import image\n",
    "import numpy as np"
   ]
  },
  {
   "cell_type": "code",
   "execution_count": 17,
   "metadata": {},
   "outputs": [],
   "source": [
    "model=load_model(\"d1.h5\")"
   ]
  },
  {
   "cell_type": "code",
   "execution_count": 18,
   "metadata": {},
   "outputs": [],
   "source": [
    "img=image.load_img(r\"F:\\Data\\testing\\malignant\\8913_idx5_x251_y1251_class1.png\",target_size= (64,64))"
   ]
  },
  {
   "cell_type": "code",
   "execution_count": 19,
   "metadata": {},
   "outputs": [],
   "source": [
    "x = image.img_to_array(img)\n",
    "x = np.expand_dims(x,axis = 0)"
   ]
  },
  {
   "cell_type": "code",
   "execution_count": 20,
   "metadata": {},
   "outputs": [],
   "source": [
    "pred = model.predict_classes(x)"
   ]
  },
  {
   "cell_type": "code",
   "execution_count": 21,
   "metadata": {},
   "outputs": [
    {
     "data": {
      "text/plain": [
       "array([[0]])"
      ]
     },
     "execution_count": 21,
     "metadata": {},
     "output_type": "execute_result"
    }
   ],
   "source": [
    "pred"
   ]
  },
  {
   "cell_type": "code",
   "execution_count": null,
   "metadata": {},
   "outputs": [],
   "source": []
  }
 ],
 "metadata": {
  "kernelspec": {
   "display_name": "Python 3",
   "language": "python",
   "name": "python3"
  },
  "language_info": {
   "codemirror_mode": {
    "name": "ipython",
    "version": 3
   },
   "file_extension": ".py",
   "mimetype": "text/x-python",
   "name": "python",
   "nbconvert_exporter": "python",
   "pygments_lexer": "ipython3",
   "version": "3.7.6"
  }
 },
 "nbformat": 4,
 "nbformat_minor": 4
}
