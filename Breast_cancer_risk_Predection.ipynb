{
 "cells": [
  {
   "cell_type": "markdown",
   "metadata": {},
   "source": [
    "# Importing Libraries"
   ]
  },
  {
   "cell_type": "code",
   "execution_count": 1,
   "metadata": {},
   "outputs": [
    {
     "name": "stderr",
     "output_type": "stream",
     "text": [
      "Using TensorFlow backend.\n",
      "WARNING:root:Limited tf.compat.v2.summary API due to missing TensorBoard installation.\n"
     ]
    }
   ],
   "source": [
    "from keras.models import Sequential\n",
    "from keras.layers import Dense\n",
    "from keras.layers import Convolution2D\n",
    "from keras.layers import MaxPooling2D\n",
    "from keras.layers import Flatten\n",
    "from keras.layers import Dropout\n",
    "from keras.preprocessing.image import ImageDataGenerator"
   ]
  },
  {
   "cell_type": "markdown",
   "metadata": {},
   "source": [
    "# Configure ImageDataGenerator Class"
   ]
  },
  {
   "cell_type": "code",
   "execution_count": 2,
   "metadata": {},
   "outputs": [],
   "source": [
    "train_datagenerator=ImageDataGenerator(rescale=1./255,shear_range=0.2,zoom_range=0.2,horizontal_flip=True)\n",
    "test_datagenerator=ImageDataGenerator(rescale=1./255)"
   ]
  },
  {
   "cell_type": "markdown",
   "metadata": {},
   "source": [
    "# Applying ImageDataGenerator Funtionality to Trainset and Testset"
   ]
  },
  {
   "cell_type": "code",
   "execution_count": 3,
   "metadata": {},
   "outputs": [
    {
     "name": "stdout",
     "output_type": "stream",
     "text": [
      "Found 1244 images belonging to 2 classes.\n",
      "Found 284 images belonging to 2 classes.\n"
     ]
    }
   ],
   "source": [
    "x_train=train_datagenerator.flow_from_directory(r\"F:\\Data\\training\",target_size=(64,64),batch_size=32,class_mode=\"binary\")\n",
    "x_test=test_datagenerator.flow_from_directory(r\"F:\\Data\\testing\",target_size=(64,64),batch_size=32,class_mode=\"binary\")"
   ]
  },
  {
   "cell_type": "code",
   "execution_count": 4,
   "metadata": {},
   "outputs": [
    {
     "data": {
      "text/plain": [
       "{'beginan': 0, 'malignant': 1}"
      ]
     },
     "execution_count": 4,
     "metadata": {},
     "output_type": "execute_result"
    }
   ],
   "source": [
    "x_train.class_indices"
   ]
  },
  {
   "cell_type": "markdown",
   "metadata": {},
   "source": [
    "# Initializing the Model"
   ]
  },
  {
   "cell_type": "code",
   "execution_count": 5,
   "metadata": {},
   "outputs": [
    {
     "name": "stdout",
     "output_type": "stream",
     "text": [
      "WARNING:tensorflow:From C:\\Users\\Jyothi Swaroop\\Anaconda3\\lib\\site-packages\\keras\\backend\\tensorflow_backend.py:74: The name tf.get_default_graph is deprecated. Please use tf.compat.v1.get_default_graph instead.\n",
      "\n"
     ]
    },
    {
     "name": "stderr",
     "output_type": "stream",
     "text": [
      "WARNING:tensorflow:From C:\\Users\\Jyothi Swaroop\\Anaconda3\\lib\\site-packages\\keras\\backend\\tensorflow_backend.py:74: The name tf.get_default_graph is deprecated. Please use tf.compat.v1.get_default_graph instead.\n",
      "\n"
     ]
    }
   ],
   "source": [
    "model=Sequential()"
   ]
  },
  {
   "cell_type": "markdown",
   "metadata": {},
   "source": [
    "# Adding CNN Layers"
   ]
  },
  {
   "cell_type": "code",
   "execution_count": 6,
   "metadata": {},
   "outputs": [
    {
     "name": "stdout",
     "output_type": "stream",
     "text": [
      "WARNING:tensorflow:From C:\\Users\\Jyothi Swaroop\\Anaconda3\\lib\\site-packages\\keras\\backend\\tensorflow_backend.py:517: The name tf.placeholder is deprecated. Please use tf.compat.v1.placeholder instead.\n",
      "\n"
     ]
    },
    {
     "name": "stderr",
     "output_type": "stream",
     "text": [
      "WARNING:tensorflow:From C:\\Users\\Jyothi Swaroop\\Anaconda3\\lib\\site-packages\\keras\\backend\\tensorflow_backend.py:517: The name tf.placeholder is deprecated. Please use tf.compat.v1.placeholder instead.\n",
      "\n"
     ]
    },
    {
     "name": "stdout",
     "output_type": "stream",
     "text": [
      "WARNING:tensorflow:From C:\\Users\\Jyothi Swaroop\\Anaconda3\\lib\\site-packages\\keras\\backend\\tensorflow_backend.py:4138: The name tf.random_uniform is deprecated. Please use tf.random.uniform instead.\n",
      "\n"
     ]
    },
    {
     "name": "stderr",
     "output_type": "stream",
     "text": [
      "WARNING:tensorflow:From C:\\Users\\Jyothi Swaroop\\Anaconda3\\lib\\site-packages\\keras\\backend\\tensorflow_backend.py:4138: The name tf.random_uniform is deprecated. Please use tf.random.uniform instead.\n",
      "\n"
     ]
    }
   ],
   "source": [
    "model.add(Convolution2D(32,(3,3),input_shape=(64,64,3),activation='relu'))"
   ]
  },
  {
   "cell_type": "code",
   "execution_count": 7,
   "metadata": {},
   "outputs": [
    {
     "name": "stdout",
     "output_type": "stream",
     "text": [
      "WARNING:tensorflow:From C:\\Users\\Jyothi Swaroop\\Anaconda3\\lib\\site-packages\\keras\\backend\\tensorflow_backend.py:3976: The name tf.nn.max_pool is deprecated. Please use tf.nn.max_pool2d instead.\n",
      "\n"
     ]
    },
    {
     "name": "stderr",
     "output_type": "stream",
     "text": [
      "WARNING:tensorflow:From C:\\Users\\Jyothi Swaroop\\Anaconda3\\lib\\site-packages\\keras\\backend\\tensorflow_backend.py:3976: The name tf.nn.max_pool is deprecated. Please use tf.nn.max_pool2d instead.\n",
      "\n"
     ]
    }
   ],
   "source": [
    "model.add(MaxPooling2D(pool_size=(2,2)))"
   ]
  },
  {
   "cell_type": "code",
   "execution_count": 8,
   "metadata": {},
   "outputs": [
    {
     "name": "stdout",
     "output_type": "stream",
     "text": [
      "WARNING:tensorflow:From C:\\Users\\Jyothi Swaroop\\Anaconda3\\lib\\site-packages\\keras\\backend\\tensorflow_backend.py:133: The name tf.placeholder_with_default is deprecated. Please use tf.compat.v1.placeholder_with_default instead.\n",
      "\n"
     ]
    },
    {
     "name": "stderr",
     "output_type": "stream",
     "text": [
      "WARNING:tensorflow:From C:\\Users\\Jyothi Swaroop\\Anaconda3\\lib\\site-packages\\keras\\backend\\tensorflow_backend.py:133: The name tf.placeholder_with_default is deprecated. Please use tf.compat.v1.placeholder_with_default instead.\n",
      "\n"
     ]
    },
    {
     "name": "stdout",
     "output_type": "stream",
     "text": [
      "WARNING:tensorflow:From C:\\Users\\Jyothi Swaroop\\Anaconda3\\lib\\site-packages\\keras\\backend\\tensorflow_backend.py:3445: calling dropout (from tensorflow.python.ops.nn_ops) with keep_prob is deprecated and will be removed in a future version.\n",
      "Instructions for updating:\n",
      "Please use `rate` instead of `keep_prob`. Rate should be set to `rate = 1 - keep_prob`.\n"
     ]
    },
    {
     "name": "stderr",
     "output_type": "stream",
     "text": [
      "WARNING:tensorflow:From C:\\Users\\Jyothi Swaroop\\Anaconda3\\lib\\site-packages\\keras\\backend\\tensorflow_backend.py:3445: calling dropout (from tensorflow.python.ops.nn_ops) with keep_prob is deprecated and will be removed in a future version.\n",
      "Instructions for updating:\n",
      "Please use `rate` instead of `keep_prob`. Rate should be set to `rate = 1 - keep_prob`.\n"
     ]
    }
   ],
   "source": [
    "model.add(Convolution2D(64,(3,3),input_shape=(32,32,3),activation='relu'))\n",
    "model.add(Dropout(0.5))"
   ]
  },
  {
   "cell_type": "code",
   "execution_count": 9,
   "metadata": {},
   "outputs": [],
   "source": [
    "model.add(Flatten())"
   ]
  },
  {
   "cell_type": "markdown",
   "metadata": {},
   "source": [
    "# Adding Dense Layers"
   ]
  },
  {
   "cell_type": "code",
   "execution_count": 10,
   "metadata": {},
   "outputs": [
    {
     "name": "stderr",
     "output_type": "stream",
     "text": [
      "C:\\Users\\Jyothi Swaroop\\Anaconda3\\lib\\site-packages\\ipykernel_launcher.py:1: UserWarning: Update your `Dense` call to the Keras 2 API: `Dense(units=128, activation=\"relu\", kernel_initializer=\"random_uniform\")`\n",
      "  \"\"\"Entry point for launching an IPython kernel.\n",
      "C:\\Users\\Jyothi Swaroop\\Anaconda3\\lib\\site-packages\\ipykernel_launcher.py:2: UserWarning: Update your `Dense` call to the Keras 2 API: `Dense(units=64, activation=\"relu\", kernel_initializer=\"random_uniform\")`\n",
      "  \n"
     ]
    }
   ],
   "source": [
    "model.add(Dense(units=128,init=\"random_uniform\",activation=\"relu\"))\n",
    "model.add(Dense(units=64,init=\"random_uniform\",activation=\"relu\"))"
   ]
  },
  {
   "cell_type": "code",
   "execution_count": 11,
   "metadata": {},
   "outputs": [
    {
     "name": "stderr",
     "output_type": "stream",
     "text": [
      "C:\\Users\\Jyothi Swaroop\\Anaconda3\\lib\\site-packages\\ipykernel_launcher.py:1: UserWarning: Update your `Dense` call to the Keras 2 API: `Dense(units=1, activation=\"sigmoid\", kernel_initializer=\"random_uniform\")`\n",
      "  \"\"\"Entry point for launching an IPython kernel.\n"
     ]
    }
   ],
   "source": [
    "model.add(Dense(units=1,init=\"random_uniform\",activation=\"sigmoid\"))"
   ]
  },
  {
   "cell_type": "markdown",
   "metadata": {},
   "source": [
    "# Optimize The model"
   ]
  },
  {
   "cell_type": "code",
   "execution_count": 12,
   "metadata": {},
   "outputs": [
    {
     "name": "stdout",
     "output_type": "stream",
     "text": [
      "WARNING:tensorflow:From C:\\Users\\Jyothi Swaroop\\Anaconda3\\lib\\site-packages\\keras\\optimizers.py:790: The name tf.train.Optimizer is deprecated. Please use tf.compat.v1.train.Optimizer instead.\n",
      "\n"
     ]
    },
    {
     "name": "stderr",
     "output_type": "stream",
     "text": [
      "WARNING:tensorflow:From C:\\Users\\Jyothi Swaroop\\Anaconda3\\lib\\site-packages\\keras\\optimizers.py:790: The name tf.train.Optimizer is deprecated. Please use tf.compat.v1.train.Optimizer instead.\n",
      "\n"
     ]
    },
    {
     "name": "stdout",
     "output_type": "stream",
     "text": [
      "WARNING:tensorflow:From C:\\Users\\Jyothi Swaroop\\Anaconda3\\lib\\site-packages\\keras\\backend\\tensorflow_backend.py:3376: The name tf.log is deprecated. Please use tf.math.log instead.\n",
      "\n"
     ]
    },
    {
     "name": "stderr",
     "output_type": "stream",
     "text": [
      "WARNING:tensorflow:From C:\\Users\\Jyothi Swaroop\\Anaconda3\\lib\\site-packages\\keras\\backend\\tensorflow_backend.py:3376: The name tf.log is deprecated. Please use tf.math.log instead.\n",
      "\n"
     ]
    },
    {
     "name": "stdout",
     "output_type": "stream",
     "text": [
      "WARNING:tensorflow:From C:\\Users\\Jyothi Swaroop\\Anaconda3\\lib\\site-packages\\tensorflow\\python\\ops\\nn_impl.py:180: add_dispatch_support.<locals>.wrapper (from tensorflow.python.ops.array_ops) is deprecated and will be removed in a future version.\n",
      "Instructions for updating:\n",
      "Use tf.where in 2.0, which has the same broadcast rule as np.where\n"
     ]
    },
    {
     "name": "stderr",
     "output_type": "stream",
     "text": [
      "WARNING:tensorflow:From C:\\Users\\Jyothi Swaroop\\Anaconda3\\lib\\site-packages\\tensorflow\\python\\ops\\nn_impl.py:180: add_dispatch_support.<locals>.wrapper (from tensorflow.python.ops.array_ops) is deprecated and will be removed in a future version.\n",
      "Instructions for updating:\n",
      "Use tf.where in 2.0, which has the same broadcast rule as np.where\n"
     ]
    }
   ],
   "source": [
    "model.compile(loss=\"binary_crossentropy\",optimizer=\"adam\",metrics=[\"accuracy\"])"
   ]
  },
  {
   "cell_type": "markdown",
   "metadata": {},
   "source": [
    "# Train and Test Model"
   ]
  },
  {
   "cell_type": "code",
   "execution_count": 13,
   "metadata": {},
   "outputs": [
    {
     "name": "stdout",
     "output_type": "stream",
     "text": [
      "Epoch 1/150\n",
      "20/20 [==============================] - 7s 343ms/step - loss: 0.5777 - acc: 0.7594 - val_loss: 0.6023 - val_acc: 0.6771\n",
      "Epoch 2/150\n",
      "20/20 [==============================] - 5s 273ms/step - loss: 0.5305 - acc: 0.7592 - val_loss: 0.5859 - val_acc: 0.6489\n",
      "Epoch 3/150\n",
      "20/20 [==============================] - 6s 280ms/step - loss: 0.5054 - acc: 0.7641 - val_loss: 0.5801 - val_acc: 0.6277\n",
      "Epoch 4/150\n",
      "20/20 [==============================] - 6s 293ms/step - loss: 0.4700 - acc: 0.7641 - val_loss: 0.4659 - val_acc: 0.6667\n",
      "Epoch 5/150\n",
      "20/20 [==============================] - 6s 306ms/step - loss: 0.4054 - acc: 0.7922 - val_loss: 0.6200 - val_acc: 0.7234\n",
      "Epoch 6/150\n",
      "20/20 [==============================] - 6s 298ms/step - loss: 0.4114 - acc: 0.8196 - val_loss: 0.3403 - val_acc: 0.8404\n",
      "Epoch 7/150\n",
      "20/20 [==============================] - 6s 295ms/step - loss: 0.3488 - acc: 0.8422 - val_loss: 0.3141 - val_acc: 0.8229\n",
      "Epoch 8/150\n",
      "20/20 [==============================] - 7s 329ms/step - loss: 0.3168 - acc: 0.8772 - val_loss: 0.2912 - val_acc: 0.8936\n",
      "Epoch 9/150\n",
      "20/20 [==============================] - 6s 320ms/step - loss: 0.2891 - acc: 0.8687 - val_loss: 0.2322 - val_acc: 0.8670\n",
      "Epoch 10/150\n",
      "20/20 [==============================] - 6s 309ms/step - loss: 0.3007 - acc: 0.8868 - val_loss: 0.2800 - val_acc: 0.8594\n",
      "Epoch 11/150\n",
      "20/20 [==============================] - 5s 269ms/step - loss: 0.2797 - acc: 0.8828 - val_loss: 0.2760 - val_acc: 0.8617\n",
      "Epoch 12/150\n",
      "20/20 [==============================] - 5s 269ms/step - loss: 0.2482 - acc: 0.8900 - val_loss: 0.2196 - val_acc: 0.8617\n",
      "Epoch 13/150\n",
      "20/20 [==============================] - 5s 269ms/step - loss: 0.3068 - acc: 0.8750 - val_loss: 0.2771 - val_acc: 0.8438\n",
      "Epoch 14/150\n",
      "20/20 [==============================] - 5s 268ms/step - loss: 0.2940 - acc: 0.8870 - val_loss: 0.2349 - val_acc: 0.8617\n",
      "Epoch 15/150\n",
      "20/20 [==============================] - 5s 269ms/step - loss: 0.2558 - acc: 0.8938 - val_loss: 0.2241 - val_acc: 0.8989\n",
      "Epoch 16/150\n",
      "20/20 [==============================] - 5s 273ms/step - loss: 0.2446 - acc: 0.8960 - val_loss: 0.2745 - val_acc: 0.8490\n",
      "Epoch 17/150\n",
      "20/20 [==============================] - 5s 273ms/step - loss: 0.3116 - acc: 0.8594 - val_loss: 0.3694 - val_acc: 0.8191\n",
      "Epoch 18/150\n",
      "20/20 [==============================] - 6s 290ms/step - loss: 0.2403 - acc: 0.9165 - val_loss: 0.2257 - val_acc: 0.8617\n",
      "Epoch 19/150\n",
      "20/20 [==============================] - 6s 280ms/step - loss: 0.2429 - acc: 0.8938 - val_loss: 0.2002 - val_acc: 0.8854\n",
      "Epoch 20/150\n",
      "20/20 [==============================] - 6s 311ms/step - loss: 0.2549 - acc: 0.8895 - val_loss: 0.2416 - val_acc: 0.8404\n",
      "Epoch 21/150\n",
      "20/20 [==============================] - 6s 291ms/step - loss: 0.2351 - acc: 0.8922 - val_loss: 0.1992 - val_acc: 0.8670\n",
      "Epoch 22/150\n",
      "20/20 [==============================] - 6s 315ms/step - loss: 0.2418 - acc: 0.9074 - val_loss: 0.2520 - val_acc: 0.8490\n",
      "Epoch 23/150\n",
      "20/20 [==============================] - 6s 289ms/step - loss: 0.2546 - acc: 0.8891 - val_loss: 0.2088 - val_acc: 0.8404\n",
      "Epoch 24/150\n",
      "20/20 [==============================] - 5s 266ms/step - loss: 0.2357 - acc: 0.8944 - val_loss: 0.1905 - val_acc: 0.8936\n",
      "Epoch 25/150\n",
      "20/20 [==============================] - 5s 268ms/step - loss: 0.2084 - acc: 0.9203 - val_loss: 0.1945 - val_acc: 0.8646\n",
      "Epoch 26/150\n",
      "20/20 [==============================] - 5s 267ms/step - loss: 0.2115 - acc: 0.8998 - val_loss: 0.2395 - val_acc: 0.8723\n",
      "Epoch 27/150\n",
      "20/20 [==============================] - 5s 270ms/step - loss: 0.2612 - acc: 0.9094 - val_loss: 0.2800 - val_acc: 0.8457\n",
      "Epoch 28/150\n",
      "20/20 [==============================] - 5s 266ms/step - loss: 0.2008 - acc: 0.9170 - val_loss: 0.1824 - val_acc: 0.8802\n",
      "Epoch 29/150\n",
      "20/20 [==============================] - 5s 266ms/step - loss: 0.2844 - acc: 0.8906 - val_loss: 0.2763 - val_acc: 0.8670\n",
      "Epoch 30/150\n",
      "20/20 [==============================] - 6s 283ms/step - loss: 0.2496 - acc: 0.8862 - val_loss: 0.2106 - val_acc: 0.8670\n",
      "Epoch 31/150\n",
      "20/20 [==============================] - 6s 305ms/step - loss: 0.2173 - acc: 0.9062 - val_loss: 0.2099 - val_acc: 0.8542\n",
      "Epoch 32/150\n",
      "20/20 [==============================] - 6s 293ms/step - loss: 0.2047 - acc: 0.9076 - val_loss: 0.2044 - val_acc: 0.8723\n",
      "Epoch 33/150\n",
      "20/20 [==============================] - 6s 288ms/step - loss: 0.2479 - acc: 0.9078 - val_loss: 0.2013 - val_acc: 0.8777\n",
      "Epoch 34/150\n",
      "20/20 [==============================] - 5s 267ms/step - loss: 0.2576 - acc: 0.9000 - val_loss: 0.2773 - val_acc: 0.8542\n",
      "Epoch 35/150\n",
      "20/20 [==============================] - 5s 267ms/step - loss: 0.1856 - acc: 0.9094 - val_loss: 0.1869 - val_acc: 0.8777\n",
      "Epoch 36/150\n",
      "20/20 [==============================] - 5s 266ms/step - loss: 0.1968 - acc: 0.9192 - val_loss: 0.1897 - val_acc: 0.8883\n",
      "Epoch 37/150\n",
      "20/20 [==============================] - 5s 268ms/step - loss: 0.3370 - acc: 0.8687 - val_loss: 0.2636 - val_acc: 0.8542\n",
      "Epoch 38/150\n",
      "20/20 [==============================] - 5s 266ms/step - loss: 0.2806 - acc: 0.9038 - val_loss: 0.2291 - val_acc: 0.8670\n",
      "Epoch 39/150\n",
      "20/20 [==============================] - 5s 265ms/step - loss: 0.2265 - acc: 0.8919 - val_loss: 0.2194 - val_acc: 0.8617\n",
      "Epoch 40/150\n",
      "20/20 [==============================] - 5s 267ms/step - loss: 0.2220 - acc: 0.8953 - val_loss: 0.2127 - val_acc: 0.8646\n",
      "Epoch 41/150\n",
      "20/20 [==============================] - 5s 267ms/step - loss: 0.2206 - acc: 0.9069 - val_loss: 0.2245 - val_acc: 0.8670\n",
      "Epoch 42/150\n",
      "20/20 [==============================] - 5s 266ms/step - loss: 0.2339 - acc: 0.9047 - val_loss: 0.2377 - val_acc: 0.8617\n",
      "Epoch 43/150\n",
      "20/20 [==============================] - 5s 267ms/step - loss: 0.2144 - acc: 0.9085 - val_loss: 0.1967 - val_acc: 0.8750\n",
      "Epoch 44/150\n",
      "20/20 [==============================] - 5s 267ms/step - loss: 0.2190 - acc: 0.9047 - val_loss: 0.2062 - val_acc: 0.8830\n",
      "Epoch 45/150\n",
      "20/20 [==============================] - 5s 266ms/step - loss: 0.1624 - acc: 0.9170 - val_loss: 0.1915 - val_acc: 0.8617\n",
      "Epoch 46/150\n",
      "20/20 [==============================] - 5s 267ms/step - loss: 0.1856 - acc: 0.9062 - val_loss: 0.1971 - val_acc: 0.8594\n",
      "Epoch 47/150\n",
      "20/20 [==============================] - 5s 267ms/step - loss: 0.2031 - acc: 0.9154 - val_loss: 0.2094 - val_acc: 0.8830\n",
      "Epoch 48/150\n",
      "20/20 [==============================] - 6s 286ms/step - loss: 0.2069 - acc: 0.9031 - val_loss: 0.2286 - val_acc: 0.8564\n",
      "Epoch 49/150\n",
      "20/20 [==============================] - 6s 321ms/step - loss: 0.1953 - acc: 0.9226 - val_loss: 0.1650 - val_acc: 0.8906\n",
      "Epoch 50/150\n",
      "20/20 [==============================] - 6s 310ms/step - loss: 0.1972 - acc: 0.9141 - val_loss: 0.1696 - val_acc: 0.8777\n",
      "Epoch 51/150\n",
      "20/20 [==============================] - 5s 271ms/step - loss: 0.2002 - acc: 0.8978 - val_loss: 0.1864 - val_acc: 0.8351\n",
      "Epoch 52/150\n",
      "20/20 [==============================] - 6s 287ms/step - loss: 0.2019 - acc: 0.9062 - val_loss: 0.2641 - val_acc: 0.8594\n",
      "Epoch 53/150\n",
      "20/20 [==============================] - 5s 274ms/step - loss: 0.2911 - acc: 0.8958 - val_loss: 0.3271 - val_acc: 0.8404\n",
      "Epoch 54/150\n",
      "20/20 [==============================] - 5s 269ms/step - loss: 0.2302 - acc: 0.8984 - val_loss: 0.1946 - val_acc: 0.8777\n",
      "Epoch 55/150\n",
      "20/20 [==============================] - 6s 276ms/step - loss: 0.1711 - acc: 0.9152 - val_loss: 0.2194 - val_acc: 0.8542\n",
      "Epoch 56/150\n",
      "20/20 [==============================] - 6s 280ms/step - loss: 0.2017 - acc: 0.9109 - val_loss: 0.1510 - val_acc: 0.9149\n",
      "Epoch 57/150\n",
      "20/20 [==============================] - 5s 268ms/step - loss: 0.1915 - acc: 0.9085 - val_loss: 0.1779 - val_acc: 0.8617\n",
      "Epoch 58/150\n",
      "20/20 [==============================] - 6s 284ms/step - loss: 0.1937 - acc: 0.9109 - val_loss: 0.1874 - val_acc: 0.8802\n",
      "Epoch 59/150\n",
      "20/20 [==============================] - 5s 272ms/step - loss: 0.1973 - acc: 0.9183 - val_loss: 0.2643 - val_acc: 0.8777\n",
      "Epoch 60/150\n",
      "20/20 [==============================] - 6s 276ms/step - loss: 0.2209 - acc: 0.9000 - val_loss: 0.1831 - val_acc: 0.8723\n",
      "Epoch 61/150\n",
      "20/20 [==============================] - 5s 272ms/step - loss: 0.2023 - acc: 0.9134 - val_loss: 0.1747 - val_acc: 0.8854\n",
      "Epoch 62/150\n"
     ]
    },
    {
     "name": "stdout",
     "output_type": "stream",
     "text": [
      "20/20 [==============================] - 5s 267ms/step - loss: 0.1683 - acc: 0.9156 - val_loss: 0.1468 - val_acc: 0.8989\n",
      "Epoch 63/150\n",
      "20/20 [==============================] - 5s 269ms/step - loss: 0.1523 - acc: 0.9288 - val_loss: 0.3187 - val_acc: 0.8404\n",
      "Epoch 64/150\n",
      "20/20 [==============================] - 5s 269ms/step - loss: 0.1892 - acc: 0.9125 - val_loss: 0.1616 - val_acc: 0.8854\n",
      "Epoch 65/150\n",
      "20/20 [==============================] - 5s 268ms/step - loss: 0.2042 - acc: 0.9076 - val_loss: 0.2276 - val_acc: 0.8883\n",
      "Epoch 66/150\n",
      "20/20 [==============================] - 5s 268ms/step - loss: 0.1851 - acc: 0.9203 - val_loss: 0.2535 - val_acc: 0.8457\n",
      "Epoch 67/150\n",
      "20/20 [==============================] - 6s 285ms/step - loss: 0.1812 - acc: 0.9145 - val_loss: 0.1996 - val_acc: 0.8698\n",
      "Epoch 68/150\n",
      "20/20 [==============================] - 5s 274ms/step - loss: 0.2023 - acc: 0.8969 - val_loss: 0.2267 - val_acc: 0.8723\n",
      "Epoch 69/150\n",
      "20/20 [==============================] - 5s 269ms/step - loss: 0.1815 - acc: 0.9165 - val_loss: 0.1473 - val_acc: 0.8989\n",
      "Epoch 70/150\n",
      "20/20 [==============================] - 5s 272ms/step - loss: 0.1653 - acc: 0.9219 - val_loss: 0.3162 - val_acc: 0.8698\n",
      "Epoch 71/150\n",
      "20/20 [==============================] - 5s 274ms/step - loss: 0.1589 - acc: 0.9288 - val_loss: 0.1787 - val_acc: 0.8830\n",
      "Epoch 72/150\n",
      "20/20 [==============================] - 6s 318ms/step - loss: 0.1777 - acc: 0.9203 - val_loss: 0.1625 - val_acc: 0.9043\n",
      "Epoch 73/150\n",
      "20/20 [==============================] - 6s 292ms/step - loss: 0.1639 - acc: 0.9290 - val_loss: 0.1851 - val_acc: 0.8854\n",
      "Epoch 74/150\n",
      "20/20 [==============================] - 6s 294ms/step - loss: 0.1702 - acc: 0.9141 - val_loss: 0.1476 - val_acc: 0.9362\n",
      "Epoch 75/150\n",
      "20/20 [==============================] - 6s 290ms/step - loss: 0.1804 - acc: 0.9183 - val_loss: 0.1990 - val_acc: 0.8777\n",
      "Epoch 76/150\n",
      "20/20 [==============================] - 5s 267ms/step - loss: 0.2619 - acc: 0.8938 - val_loss: 0.3452 - val_acc: 0.8229\n",
      "Epoch 77/150\n",
      "20/20 [==============================] - 5s 267ms/step - loss: 0.2083 - acc: 0.9136 - val_loss: 0.2687 - val_acc: 0.8511\n",
      "Epoch 78/150\n",
      "20/20 [==============================] - 6s 286ms/step - loss: 0.2141 - acc: 0.9052 - val_loss: 0.1721 - val_acc: 0.8723\n",
      "Epoch 79/150\n",
      "20/20 [==============================] - 6s 283ms/step - loss: 0.1990 - acc: 0.9078 - val_loss: 0.1587 - val_acc: 0.9010\n",
      "Epoch 80/150\n",
      "20/20 [==============================] - 6s 290ms/step - loss: 0.1568 - acc: 0.9230 - val_loss: 0.1761 - val_acc: 0.9043\n",
      "Epoch 81/150\n",
      "20/20 [==============================] - 6s 280ms/step - loss: 0.1642 - acc: 0.9203 - val_loss: 0.1737 - val_acc: 0.9255\n",
      "Epoch 82/150\n",
      "20/20 [==============================] - 6s 276ms/step - loss: 0.1962 - acc: 0.9094 - val_loss: 0.3654 - val_acc: 0.8125\n",
      "Epoch 83/150\n",
      "20/20 [==============================] - 6s 291ms/step - loss: 0.1982 - acc: 0.9156 - val_loss: 0.1890 - val_acc: 0.8989\n",
      "Epoch 84/150\n",
      "20/20 [==============================] - 6s 305ms/step - loss: 0.1693 - acc: 0.9248 - val_loss: 0.1834 - val_acc: 0.8883\n",
      "Epoch 85/150\n",
      "20/20 [==============================] - 6s 297ms/step - loss: 0.1562 - acc: 0.9297 - val_loss: 0.1338 - val_acc: 0.9271\n",
      "Epoch 86/150\n",
      "20/20 [==============================] - 5s 268ms/step - loss: 0.1744 - acc: 0.9154 - val_loss: 0.1670 - val_acc: 0.9149\n",
      "Epoch 87/150\n",
      "20/20 [==============================] - 6s 276ms/step - loss: 0.1332 - acc: 0.9375 - val_loss: 0.1290 - val_acc: 0.9309\n",
      "Epoch 88/150\n",
      "20/20 [==============================] - 6s 305ms/step - loss: 0.1411 - acc: 0.9337 - val_loss: 0.1673 - val_acc: 0.9115\n",
      "Epoch 89/150\n",
      "20/20 [==============================] - 6s 302ms/step - loss: 0.1563 - acc: 0.9328 - val_loss: 0.1462 - val_acc: 0.9309\n",
      "Epoch 90/150\n",
      "20/20 [==============================] - 5s 265ms/step - loss: 0.1688 - acc: 0.9183 - val_loss: 0.1327 - val_acc: 0.9681\n",
      "Epoch 91/150\n",
      "20/20 [==============================] - 6s 281ms/step - loss: 0.1390 - acc: 0.9422 - val_loss: 0.2170 - val_acc: 0.8958\n",
      "Epoch 92/150\n",
      "20/20 [==============================] - 6s 288ms/step - loss: 0.1490 - acc: 0.9183 - val_loss: 0.1552 - val_acc: 0.9096\n",
      "Epoch 93/150\n",
      "20/20 [==============================] - 5s 268ms/step - loss: 0.1665 - acc: 0.9125 - val_loss: 0.1814 - val_acc: 0.8830\n",
      "Epoch 94/150\n",
      "20/20 [==============================] - 5s 269ms/step - loss: 0.1307 - acc: 0.9466 - val_loss: 0.1490 - val_acc: 0.9115\n",
      "Epoch 95/150\n",
      "20/20 [==============================] - 5s 266ms/step - loss: 0.1542 - acc: 0.9203 - val_loss: 0.1656 - val_acc: 0.9096\n",
      "Epoch 96/150\n",
      "20/20 [==============================] - 6s 276ms/step - loss: 0.1520 - acc: 0.9165 - val_loss: 0.1713 - val_acc: 0.9309\n",
      "Epoch 97/150\n",
      "20/20 [==============================] - 6s 282ms/step - loss: 0.1869 - acc: 0.9312 - val_loss: 0.2286 - val_acc: 0.8958\n",
      "Epoch 98/150\n",
      "20/20 [==============================] - 5s 269ms/step - loss: 0.1556 - acc: 0.9185 - val_loss: 0.1175 - val_acc: 0.9574\n",
      "Epoch 99/150\n",
      "20/20 [==============================] - 6s 290ms/step - loss: 0.1503 - acc: 0.9328 - val_loss: 0.1852 - val_acc: 0.9415\n",
      "Epoch 100/150\n",
      "20/20 [==============================] - 5s 269ms/step - loss: 0.1551 - acc: 0.9353 - val_loss: 0.1875 - val_acc: 0.8958\n",
      "Epoch 101/150\n",
      "20/20 [==============================] - 5s 266ms/step - loss: 0.1362 - acc: 0.9375 - val_loss: 0.1753 - val_acc: 0.9309\n",
      "Epoch 102/150\n",
      "20/20 [==============================] - 5s 265ms/step - loss: 0.1550 - acc: 0.9179 - val_loss: 0.1431 - val_acc: 0.8989\n",
      "Epoch 103/150\n",
      "20/20 [==============================] - 5s 265ms/step - loss: 0.1556 - acc: 0.9297 - val_loss: 0.1455 - val_acc: 0.9323\n",
      "Epoch 104/150\n",
      "20/20 [==============================] - 5s 266ms/step - loss: 0.1574 - acc: 0.9214 - val_loss: 0.1894 - val_acc: 0.8777\n",
      "Epoch 105/150\n",
      "20/20 [==============================] - 5s 266ms/step - loss: 0.1936 - acc: 0.9031 - val_loss: 0.1366 - val_acc: 0.9415\n",
      "Epoch 106/150\n",
      "20/20 [==============================] - 5s 266ms/step - loss: 0.2277 - acc: 0.9187 - val_loss: 0.2349 - val_acc: 0.8698\n",
      "Epoch 107/150\n",
      "20/20 [==============================] - 6s 275ms/step - loss: 0.1611 - acc: 0.9297 - val_loss: 0.2159 - val_acc: 0.8777\n",
      "Epoch 108/150\n",
      "20/20 [==============================] - 5s 269ms/step - loss: 0.1737 - acc: 0.9246 - val_loss: 0.1796 - val_acc: 0.8777\n",
      "Epoch 109/150\n",
      "20/20 [==============================] - 5s 266ms/step - loss: 0.1697 - acc: 0.9250 - val_loss: 0.1758 - val_acc: 0.8854\n",
      "Epoch 110/150\n",
      "20/20 [==============================] - 5s 275ms/step - loss: 0.1511 - acc: 0.9357 - val_loss: 0.1439 - val_acc: 0.9362\n",
      "Epoch 111/150\n",
      "20/20 [==============================] - 6s 282ms/step - loss: 0.1397 - acc: 0.9312 - val_loss: 0.1375 - val_acc: 0.9415\n",
      "Epoch 112/150\n",
      "20/20 [==============================] - 6s 299ms/step - loss: 0.1308 - acc: 0.9469 - val_loss: 0.1443 - val_acc: 0.9479\n",
      "Epoch 113/150\n",
      "20/20 [==============================] - 6s 279ms/step - loss: 0.1138 - acc: 0.9469 - val_loss: 0.1399 - val_acc: 0.9202\n",
      "Epoch 114/150\n",
      "20/20 [==============================] - 5s 274ms/step - loss: 0.1519 - acc: 0.9286 - val_loss: 0.1261 - val_acc: 0.9574\n",
      "Epoch 115/150\n",
      "20/20 [==============================] - 6s 279ms/step - loss: 0.1375 - acc: 0.9359 - val_loss: 0.1217 - val_acc: 0.9271\n",
      "Epoch 116/150\n",
      "20/20 [==============================] - 6s 278ms/step - loss: 0.1358 - acc: 0.9292 - val_loss: 0.1197 - val_acc: 0.9468\n",
      "Epoch 117/150\n",
      "20/20 [==============================] - 6s 283ms/step - loss: 0.1167 - acc: 0.9511 - val_loss: 0.1469 - val_acc: 0.9202\n",
      "Epoch 118/150\n",
      "20/20 [==============================] - 6s 288ms/step - loss: 0.1153 - acc: 0.9469 - val_loss: 0.1132 - val_acc: 0.9323\n",
      "Epoch 119/150\n",
      "20/20 [==============================] - 6s 285ms/step - loss: 0.1323 - acc: 0.9417 - val_loss: 0.1487 - val_acc: 0.9309\n",
      "Epoch 120/150\n",
      "20/20 [==============================] - 6s 279ms/step - loss: 0.1371 - acc: 0.9359 - val_loss: 0.1128 - val_acc: 0.9521\n",
      "Epoch 121/150\n",
      "20/20 [==============================] - 6s 279ms/step - loss: 0.1288 - acc: 0.9437 - val_loss: 0.1328 - val_acc: 0.9219\n",
      "Epoch 122/150\n",
      "20/20 [==============================] - 6s 276ms/step - loss: 0.1597 - acc: 0.9281 - val_loss: 0.1332 - val_acc: 0.9362\n",
      "Epoch 123/150\n"
     ]
    },
    {
     "name": "stdout",
     "output_type": "stream",
     "text": [
      "20/20 [==============================] - 6s 277ms/step - loss: 0.1950 - acc: 0.9234 - val_loss: 0.1851 - val_acc: 0.9096\n",
      "Epoch 124/150\n",
      "20/20 [==============================] - 5s 271ms/step - loss: 0.1809 - acc: 0.9094 - val_loss: 0.1503 - val_acc: 0.9323\n",
      "Epoch 125/150\n",
      "20/20 [==============================] - 6s 278ms/step - loss: 0.1400 - acc: 0.9496 - val_loss: 0.2666 - val_acc: 0.8617\n",
      "Epoch 126/150\n",
      "20/20 [==============================] - 5s 272ms/step - loss: 0.1502 - acc: 0.9219 - val_loss: 0.1422 - val_acc: 0.9202\n",
      "Epoch 127/150\n",
      "20/20 [==============================] - 5s 270ms/step - loss: 0.1633 - acc: 0.9339 - val_loss: 0.1478 - val_acc: 0.9167\n",
      "Epoch 128/150\n",
      "20/20 [==============================] - 5s 271ms/step - loss: 0.1226 - acc: 0.9469 - val_loss: 0.0935 - val_acc: 0.9574\n",
      "Epoch 129/150\n",
      "20/20 [==============================] - 6s 279ms/step - loss: 0.1207 - acc: 0.9440 - val_loss: 0.1358 - val_acc: 0.9362\n",
      "Epoch 130/150\n",
      "20/20 [==============================] - 6s 304ms/step - loss: 0.1530 - acc: 0.9391 - val_loss: 0.1299 - val_acc: 0.9167\n",
      "Epoch 131/150\n",
      "20/20 [==============================] - 5s 271ms/step - loss: 0.1604 - acc: 0.9134 - val_loss: 0.1397 - val_acc: 0.9521\n",
      "Epoch 132/150\n",
      "20/20 [==============================] - 6s 280ms/step - loss: 0.1757 - acc: 0.9203 - val_loss: 0.1506 - val_acc: 0.9202\n",
      "Epoch 133/150\n",
      "20/20 [==============================] - 5s 272ms/step - loss: 0.1454 - acc: 0.9248 - val_loss: 0.1337 - val_acc: 0.9062\n",
      "Epoch 134/150\n",
      "20/20 [==============================] - 5s 272ms/step - loss: 0.1250 - acc: 0.9406 - val_loss: 0.1585 - val_acc: 0.9255\n",
      "Epoch 135/150\n",
      "20/20 [==============================] - 5s 269ms/step - loss: 0.1382 - acc: 0.9415 - val_loss: 0.2089 - val_acc: 0.9043\n",
      "Epoch 136/150\n",
      "20/20 [==============================] - 5s 271ms/step - loss: 0.2443 - acc: 0.8969 - val_loss: 0.1415 - val_acc: 0.9531\n",
      "Epoch 137/150\n",
      "20/20 [==============================] - 5s 269ms/step - loss: 0.1329 - acc: 0.9357 - val_loss: 0.1995 - val_acc: 0.8723\n",
      "Epoch 138/150\n",
      "20/20 [==============================] - 5s 268ms/step - loss: 0.1306 - acc: 0.9391 - val_loss: 0.1133 - val_acc: 0.9521\n",
      "Epoch 139/150\n",
      "20/20 [==============================] - 5s 271ms/step - loss: 0.1269 - acc: 0.9484 - val_loss: 0.1227 - val_acc: 0.9427\n",
      "Epoch 140/150\n",
      "20/20 [==============================] - 5s 267ms/step - loss: 0.1372 - acc: 0.9375 - val_loss: 0.1152 - val_acc: 0.9574\n",
      "Epoch 141/150\n",
      "20/20 [==============================] - 5s 267ms/step - loss: 0.1123 - acc: 0.9545 - val_loss: 0.1340 - val_acc: 0.9149\n",
      "Epoch 142/150\n",
      "20/20 [==============================] - 5s 272ms/step - loss: 0.1174 - acc: 0.9484 - val_loss: 0.1643 - val_acc: 0.9219\n",
      "Epoch 143/150\n",
      "20/20 [==============================] - 5s 267ms/step - loss: 0.1269 - acc: 0.9511 - val_loss: 0.1187 - val_acc: 0.9202\n",
      "Epoch 144/150\n",
      "20/20 [==============================] - 5s 268ms/step - loss: 0.1264 - acc: 0.9359 - val_loss: 0.1050 - val_acc: 0.9309\n",
      "Epoch 145/150\n",
      "20/20 [==============================] - 5s 268ms/step - loss: 0.1247 - acc: 0.9422 - val_loss: 0.1049 - val_acc: 0.9427\n",
      "Epoch 146/150\n",
      "20/20 [==============================] - 5s 269ms/step - loss: 0.0936 - acc: 0.9672 - val_loss: 0.1334 - val_acc: 0.9521\n",
      "Epoch 147/150\n",
      "20/20 [==============================] - 5s 273ms/step - loss: 0.1053 - acc: 0.9623 - val_loss: 0.0745 - val_acc: 0.9681\n",
      "Epoch 148/150\n",
      "20/20 [==============================] - 5s 268ms/step - loss: 0.1937 - acc: 0.9438 - val_loss: 0.1389 - val_acc: 0.9323\n",
      "Epoch 149/150\n",
      "20/20 [==============================] - 5s 266ms/step - loss: 0.2209 - acc: 0.9040 - val_loss: 0.1374 - val_acc: 0.9149\n",
      "Epoch 150/150\n",
      "20/20 [==============================] - 5s 272ms/step - loss: 0.2027 - acc: 0.9234 - val_loss: 0.1456 - val_acc: 0.9309\n"
     ]
    },
    {
     "data": {
      "text/plain": [
       "<keras.callbacks.History at 0x1e3bf7f3088>"
      ]
     },
     "execution_count": 13,
     "metadata": {},
     "output_type": "execute_result"
    }
   ],
   "source": [
    "model.fit_generator(x_train,steps_per_epoch = 20,epochs=150,validation_data=x_test,validation_steps=6)"
   ]
  },
  {
   "cell_type": "markdown",
   "metadata": {},
   "source": [
    "# Save Model"
   ]
  },
  {
   "cell_type": "code",
   "execution_count": 25,
   "metadata": {},
   "outputs": [],
   "source": [
    "model.save('d1.h5')"
   ]
  },
  {
   "cell_type": "code",
   "execution_count": 26,
   "metadata": {},
   "outputs": [],
   "source": [
    "from keras.models import load_model\n",
    "from keras.preprocessing import image\n",
    "import numpy as np"
   ]
  },
  {
   "cell_type": "code",
   "execution_count": 27,
   "metadata": {},
   "outputs": [],
   "source": [
    "model=load_model(\"d1.h5\")"
   ]
  },
  {
   "cell_type": "code",
   "execution_count": 28,
   "metadata": {},
   "outputs": [],
   "source": [
    "img=image.load_img(r\"F:\\Data\\testing\\malignant\\16553_idx5_x651_y1401_class1.png\",target_size= (64,64))"
   ]
  },
  {
   "cell_type": "code",
   "execution_count": 29,
   "metadata": {},
   "outputs": [],
   "source": [
    "x = image.img_to_array(img)\n",
    "x = np.expand_dims(x,axis = 0)"
   ]
  },
  {
   "cell_type": "code",
   "execution_count": 30,
   "metadata": {},
   "outputs": [],
   "source": [
    "pred = model.predict_classes(x)"
   ]
  },
  {
   "cell_type": "code",
   "execution_count": 31,
   "metadata": {},
   "outputs": [
    {
     "data": {
      "text/plain": [
       "array([[1]])"
      ]
     },
     "execution_count": 31,
     "metadata": {},
     "output_type": "execute_result"
    }
   ],
   "source": [
    "pred"
   ]
  },
  {
   "cell_type": "code",
   "execution_count": 32,
   "metadata": {},
   "outputs": [],
   "source": [
    "img=image.load_img(r\"F:\\Data\\testing\\beginan\\8913_idx5_x251_y1101_class0.png\",target_size= (64,64))"
   ]
  },
  {
   "cell_type": "code",
   "execution_count": 33,
   "metadata": {},
   "outputs": [],
   "source": [
    "x = image.img_to_array(img)\n",
    "x = np.expand_dims(x,axis = 0)"
   ]
  },
  {
   "cell_type": "code",
   "execution_count": 34,
   "metadata": {},
   "outputs": [],
   "source": [
    "pred = model.predict_classes(x)"
   ]
  },
  {
   "cell_type": "code",
   "execution_count": 35,
   "metadata": {},
   "outputs": [
    {
     "data": {
      "text/plain": [
       "array([[0]])"
      ]
     },
     "execution_count": 35,
     "metadata": {},
     "output_type": "execute_result"
    }
   ],
   "source": [
    "pred"
   ]
  },
  {
   "cell_type": "markdown",
   "metadata": {},
   "source": [
    "# Thank You"
   ]
  }
 ],
 "metadata": {
  "kernelspec": {
   "display_name": "Python 3",
   "language": "python",
   "name": "python3"
  },
  "language_info": {
   "codemirror_mode": {
    "name": "ipython",
    "version": 3
   },
   "file_extension": ".py",
   "mimetype": "text/x-python",
   "name": "python",
   "nbconvert_exporter": "python",
   "pygments_lexer": "ipython3",
   "version": "3.7.4"
  }
 },
 "nbformat": 4,
 "nbformat_minor": 4
}
